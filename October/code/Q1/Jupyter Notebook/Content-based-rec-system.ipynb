{
 "cells": [
  {
   "cell_type": "code",
   "execution_count": 2,
   "id": "3f47c9e3",
   "metadata": {},
   "outputs": [],
   "source": [
    "import pandas as pd\n",
    "import numpy as np"
   ]
  },
  {
   "cell_type": "code",
   "execution_count": 5,
   "id": "14da8df3",
   "metadata": {},
   "outputs": [
    {
     "name": "stderr",
     "output_type": "stream",
     "text": [
      "C:\\Users\\bokai\\anaconda3\\lib\\site-packages\\IPython\\core\\interactiveshell.py:3441: DtypeWarning: Columns (3) have mixed types.Specify dtype option on import or set low_memory=False.\n",
      "  exec(code_obj, self.user_global_ns, self.user_ns)\n"
     ]
    }
   ],
   "source": [
    "df=pd.read_csv('dataset/content_based.csv')\n",
    "df=df.drop(['Unnamed: 0'],axis=1)\n",
    "\n",
    "df2=pd.read_csv('dataset/steam_app.csv')\n",
    "df2=df2.rename(columns={'Unnamed: 0':'Steam_appid'})"
   ]
  },
  {
   "cell_type": "code",
   "execution_count": 6,
   "id": "ece20457",
   "metadata": {},
   "outputs": [],
   "source": [
    "def find_similar_games(app_id):\n",
    "    \"\"\"\n",
    "    \"\"\"\n",
    "    if app_id not in df2['Steam_appid'].tolist():\n",
    "        print (\"The game you like is not in the database.\")\n",
    "    else:\n",
    "        name=df2.loc[df2['Steam_appid']==app_id,'name'].values[0]\n",
    "        rec_id_lst=df.loc[df['app_id']==app_id].values[0][1:]\n",
    "        print('The game you like is '+ name+'.')\n",
    "        print('The similar games we recommend are:')\n",
    "        print('-'*50)\n",
    "        for ids in rec_id_lst:\n",
    "            print(df2.loc[df2['Steam_appid']==ids,'name'].values[0])\n",
    "            print('The Steam game id is: {}'.format(df2.loc[df2['Steam_appid']==ids,'Steam_appid'].values[0]))\n",
    "            print('-'*50)"
   ]
  },
  {
   "cell_type": "code",
   "execution_count": 7,
   "id": "615a9779",
   "metadata": {},
   "outputs": [
    {
     "name": "stdout",
     "output_type": "stream",
     "text": [
      "The game you like is Sid Meier’s Civilization® VI.\n",
      "The similar games we recommend are:\n",
      "--------------------------------------------------\n",
      "Kingdom Rush Frontiers - Tower Defense\n",
      "The Steam game id is: 458710\n",
      "--------------------------------------------------\n",
      "TRIOS - lofi beats / numbers to chill to\n",
      "The Steam game id is: 1214060\n",
      "--------------------------------------------------\n",
      "99Vidas\n",
      "The Steam game id is: 557040\n",
      "--------------------------------------------------\n",
      "The Jewel of Monostructure\n",
      "The Steam game id is: 1644280\n",
      "--------------------------------------------------\n",
      "Total War: WARHAMMER\n",
      "The Steam game id is: 364360\n",
      "--------------------------------------------------\n",
      "1775: Rebellion\n",
      "The Steam game id is: 422610\n",
      "--------------------------------------------------\n",
      "Stardew Valley\n",
      "The Steam game id is: 413150\n",
      "--------------------------------------------------\n",
      "Surfingers\n",
      "The Steam game id is: 438080\n",
      "--------------------------------------------------\n",
      "Master of Orion\n",
      "The Steam game id is: 298050\n",
      "--------------------------------------------------\n",
      "XCOM® 2\n",
      "The Steam game id is: 268500\n",
      "--------------------------------------------------\n"
     ]
    }
   ],
   "source": [
    "find_similar_games(289070)"
   ]
  },
  {
   "cell_type": "code",
   "execution_count": null,
   "id": "a9b43718",
   "metadata": {},
   "outputs": [],
   "source": []
  }
 ],
 "metadata": {
  "kernelspec": {
   "display_name": "Python 3 (ipykernel)",
   "language": "python",
   "name": "python3"
  },
  "language_info": {
   "codemirror_mode": {
    "name": "ipython",
    "version": 3
   },
   "file_extension": ".py",
   "mimetype": "text/x-python",
   "name": "python",
   "nbconvert_exporter": "python",
   "pygments_lexer": "ipython3",
   "version": "3.8.11"
  }
 },
 "nbformat": 4,
 "nbformat_minor": 5
}
