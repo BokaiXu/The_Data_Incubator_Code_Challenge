{
 "cells": [
  {
   "cell_type": "code",
   "execution_count": 1,
   "metadata": {},
   "outputs": [],
   "source": [
    "import pandas as pd\n",
    "import numpy as np\n",
    "import requests\n",
    "from datetime import datetime\n",
    "\n",
    "group_size = 50000 #max block size\n",
    "\n",
    "query = (\"https://data.nola.gov/resource/hp7u-i9hf.json?\"\n",
    "         \"$select=type_,timedispatch,timearrive,disposition,timecreate,location,policedistrict,priority\"\n",
    "         #columns of interest \n",
    "         \"&$limit=\" + str(group_size) +\n",
    "         \"&$order=nopd_item\"\n",
    "         \"&$offset=\")\n",
    "\n",
    "group_id = 0\n",
    "df_list = []\n",
    "condition = True\n",
    "while condition:\n",
    "    the_offset = group_id * group_size\n",
    "    df_list.append(pd.read_json(query + str(the_offset))) #loading data frame in chuncks\n",
    "    group_id += 1\n",
    "    condition = not df_list[-1].empty #until full database is taken\n",
    "\n",
    "df2015 = pd.concat(df_list, ignore_index=True) # building the dataframe"
   ]
  },
  {
   "cell_type": "code",
   "execution_count": 19,
   "metadata": {},
   "outputs": [
    {
     "data": {
      "text/plain": [
       "30.0086791"
      ]
     },
     "execution_count": 19,
     "metadata": {},
     "output_type": "execute_result"
    }
   ],
   "source": [
    "df2015['location'].iloc[0]['coordinates'][1]"
   ]
  },
  {
   "cell_type": "code",
   "execution_count": null,
   "metadata": {},
   "outputs": [],
   "source": []
  }
 ],
 "metadata": {
  "kernelspec": {
   "display_name": "Python 3",
   "language": "python",
   "name": "python3"
  },
  "language_info": {
   "codemirror_mode": {
    "name": "ipython",
    "version": 3
   },
   "file_extension": ".py",
   "mimetype": "text/x-python",
   "name": "python",
   "nbconvert_exporter": "python",
   "pygments_lexer": "ipython3",
   "version": "3.8.5"
  }
 },
 "nbformat": 4,
 "nbformat_minor": 4
}
