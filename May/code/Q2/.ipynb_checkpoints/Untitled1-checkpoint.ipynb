{
 "cells": [
  {
   "cell_type": "code",
   "execution_count": 2,
   "metadata": {},
   "outputs": [],
   "source": [
    "import numpy as np"
   ]
  },
  {
   "cell_type": "code",
   "execution_count": 93,
   "metadata": {},
   "outputs": [],
   "source": [
    "def simulation(n,M):\n",
    "    \"\"\"\n",
    "    This function simulate rolling a fair dice and sum up the result till the sum is equal or larger than M n times.\n",
    "    Then it calculate and print the mean of sum minus M, the mean of rolling times, the std of sum minus M.\n",
    "    \"\"\"\n",
    "    result=[]\n",
    "    time=[]\n",
    "    for i in range(n):\n",
    "        sum_dice=0\n",
    "        num=0\n",
    "        for m in range(M+1):\n",
    "            sum_dice+=np.random.randint(1, 7)\n",
    "            num+=1\n",
    "            if sum_dice>=M:\n",
    "                result.append(sum_dice-M)\n",
    "                time.append(num)\n",
    "                break\n",
    "    print('Simulate times ',n)\n",
    "    print('mean ',np.round(np.mean(result),5))\n",
    "    print('mean of roll times ',np.round(np.mean(time),5))\n",
    "    print('std of mean ',np.round(np.std(result),5))\n",
    "    print('------------------------------')"
   ]
  },
  {
   "cell_type": "code",
   "execution_count": 94,
   "metadata": {},
   "outputs": [
    {
     "name": "stdout",
     "output_type": "stream",
     "text": [
      "Simulate times  200000\n",
      "mean  1.66576\n",
      "mean of roll times  6.18544\n",
      "std of mean  1.48819\n",
      "------------------------------\n",
      "Simulate times  2000000\n",
      "mean  1.6648\n",
      "mean of roll times  6.19062\n",
      "std of mean  1.48931\n",
      "------------------------------\n",
      "Simulate times  20000000\n",
      "mean  1.66551\n",
      "mean of roll times  6.19033\n",
      "std of mean  1.48944\n",
      "------------------------------\n",
      "Simulate times  200000000\n",
      "mean  1.66582\n",
      "mean of roll times  6.1903\n",
      "std of mean  1.4898\n",
      "------------------------------\n"
     ]
    }
   ],
   "source": [
    "times=[200000,2000000,20000000,200000000]\n",
    "for time in times:\n",
    "    simulation(time,20)"
   ]
  },
  {
   "cell_type": "code",
   "execution_count": null,
   "metadata": {},
   "outputs": [],
   "source": []
  }
 ],
 "metadata": {
  "kernelspec": {
   "display_name": "Python 3",
   "language": "python",
   "name": "python3"
  },
  "language_info": {
   "codemirror_mode": {
    "name": "ipython",
    "version": 3
   },
   "file_extension": ".py",
   "mimetype": "text/x-python",
   "name": "python",
   "nbconvert_exporter": "python",
   "pygments_lexer": "ipython3",
   "version": "3.8.5"
  }
 },
 "nbformat": 4,
 "nbformat_minor": 4
}
